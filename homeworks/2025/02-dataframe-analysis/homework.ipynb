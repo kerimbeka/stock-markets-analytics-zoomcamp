{
 "cells": [
  {
   "cell_type": "code",
   "execution_count": null,
   "id": "a0468e1d",
   "metadata": {},
   "outputs": [],
   "source": [
    "import re\n",
    "import time\n",
    "from datetime import date\n",
    "from io import StringIO\n",
    "\n",
    "import gdown\n",
    "import numpy as np\n",
    "import pandas as pd\n",
    "import polars as pl\n",
    "import polars.selectors as cs\n",
    "import requests\n",
    "import yfinance as yf"
   ]
  },
  {
   "cell_type": "code",
   "execution_count": 2,
   "id": "e7a03a45",
   "metadata": {},
   "outputs": [
    {
     "data": {
      "text/plain": [
       "polars.config.Config"
      ]
     },
     "execution_count": 2,
     "metadata": {},
     "output_type": "execute_result"
    }
   ],
   "source": [
    "pl.Config.set_tbl_rows(100)"
   ]
  },
  {
   "cell_type": "markdown",
   "id": "b1377352",
   "metadata": {},
   "source": [
    "## Question 1"
   ]
  },
  {
   "cell_type": "code",
   "execution_count": null,
   "id": "24149d6d",
   "metadata": {},
   "outputs": [],
   "source": [
    "def get_withdrawn_ipos() -> pd.DataFrame:\n",
    "    url = \"https://stockanalysis.com/ipos/withdrawn/\"\n",
    "    headers = {\n",
    "        \"User-Agent\": (\n",
    "            \"Mozilla/5.0 (Windows NT 10.0; Win64; x64) \"\n",
    "            \"AppleWebKit/537.36 (KHTML, like Gecko) \"\n",
    "            \"Chrome/58.0.3029.110 Safari/537.3\"\n",
    "        )\n",
    "    }\n",
    "\n",
    "    try:\n",
    "        response = requests.get(url, headers=headers, timeout=10)\n",
    "        response.raise_for_status()\n",
    "\n",
    "        # Wrap HTML text in StringIO to avoid deprecation warning\n",
    "        # \"Passing literal html to 'read_html' is deprecated and will be removed in a future version. To read from a literal string, wrap it in a 'StringIO' object.\"\n",
    "        html_io = StringIO(response.text)\n",
    "        tables = pd.read_html(html_io)\n",
    "\n",
    "        if not tables:\n",
    "            raise ValueError(\"No tables found.\")\n",
    "\n",
    "        return tables[0]\n",
    "\n",
    "    except requests.exceptions.RequestException as e:\n",
    "        print(f\"Request failed: {e}\")\n",
    "    except ValueError as ve:\n",
    "        print(f\"Data error: {ve}\")\n",
    "    except Exception as ex:\n",
    "        print(f\"Unexpected error: {ex}\")\n",
    "\n",
    "    return pd.DataFrame()"
   ]
  },
  {
   "cell_type": "code",
   "execution_count": 4,
   "id": "9e82582a",
   "metadata": {},
   "outputs": [],
   "source": [
    "withdrawn_ipo_df = pl.from_pandas(get_withdrawn_ipos())"
   ]
  },
  {
   "cell_type": "code",
   "execution_count": null,
   "id": "e92c0935",
   "metadata": {},
   "outputs": [],
   "source": [
    "def classify_company(name):\n",
    "    if name is None:\n",
    "        return \"Other\"\n",
    "\n",
    "    cleaned_name = re.sub(r\"[^\\w\\s]\", \"\", name)\n",
    "    words = cleaned_name.lower().split()  # Normalize text and split into words\n",
    "\n",
    "    if \"acquisition\" in words and (\"corp\" in words or \"corporation\" in words):\n",
    "        return \"Acq.Corp\"\n",
    "    elif \"inc\" in words or \"incorporated\" in words:\n",
    "        return \"Inc\"\n",
    "    elif \"group\" in words:\n",
    "        return \"Group\"\n",
    "    elif \"holdings\" in words:\n",
    "        return \"Holdings\"\n",
    "    elif \"ltd\" in words or \"limited\" in words:\n",
    "        return \"Ltd\"\n",
    "    else:\n",
    "        return \"Other\"\n"
   ]
  },
  {
   "cell_type": "code",
   "execution_count": null,
   "id": "63cc99fe",
   "metadata": {},
   "outputs": [],
   "source": [
    "withdrawn_ipo_df = withdrawn_ipo_df.with_columns(\n",
    "    pl.col(\"Company Name\")\n",
    "    .map_elements(classify_company, return_dtype=pl.String)\n",
    "    .alias(\"Company Class\")\n",
    ")"
   ]
  },
  {
   "cell_type": "code",
   "execution_count": 7,
   "id": "7fd2fd92",
   "metadata": {},
   "outputs": [],
   "source": [
    "def parse_avg_price(price):\n",
    "    if price == \"-\" or price is None:\n",
    "        return None\n",
    "    prices = re.findall(r\"\\d+\\.\\d+\", price)  # Extract numerical values\n",
    "    prices = list(map(float, prices))  # Convert to float\n",
    "    return sum(prices) / len(prices) if prices else None  # Compute average\n"
   ]
  },
  {
   "cell_type": "code",
   "execution_count": null,
   "id": "fcfd78a9",
   "metadata": {},
   "outputs": [],
   "source": [
    "withdrawn_ipo_df = withdrawn_ipo_df.with_columns(\n",
    "    pl.col(\"Price Range\")\n",
    "    .map_elements(parse_avg_price, return_dtype=pl.Float64)\n",
    "    .alias(\"Avg. Price\")\n",
    ")\n"
   ]
  },
  {
   "cell_type": "code",
   "execution_count": null,
   "id": "d8a3b706",
   "metadata": {},
   "outputs": [],
   "source": [
    "withdrawn_ipo_df = withdrawn_ipo_df.with_columns(\n",
    "    pl.col(\"Shares Offered\").cast(pl.Int64, strict=False)\n",
    ")"
   ]
  },
  {
   "cell_type": "code",
   "execution_count": 10,
   "id": "0641c66e",
   "metadata": {},
   "outputs": [],
   "source": [
    "withdrawn_ipo_df = withdrawn_ipo_df.with_columns(\n",
    "    (pl.col(\"Shares Offered\") * pl.col(\"Avg. Price\")).alias(\"Withdrawn Value\")\n",
    ")"
   ]
  },
  {
   "cell_type": "code",
   "execution_count": 11,
   "id": "3b05b392",
   "metadata": {},
   "outputs": [
    {
     "data": {
      "text/html": [
       "<div><style>\n",
       ".dataframe > thead > tr,\n",
       ".dataframe > tbody > tr {\n",
       "  text-align: right;\n",
       "  white-space: pre-wrap;\n",
       "}\n",
       "</style>\n",
       "<small>shape: (6, 2)</small><table border=\"1\" class=\"dataframe\"><thead><tr><th>Company Class</th><th>Total Withdrawn Value</th></tr><tr><td>str</td><td>f64</td></tr></thead><tbody><tr><td>&quot;Acq.Corp&quot;</td><td>4.0210e9</td></tr><tr><td>&quot;Inc&quot;</td><td>2.2572e9</td></tr><tr><td>&quot;Other&quot;</td><td>7.67919999e8</td></tr><tr><td>&quot;Ltd&quot;</td><td>3.2173e8</td></tr><tr><td>&quot;Holdings&quot;</td><td>3.0300e8</td></tr><tr><td>&quot;Group&quot;</td><td>3.37875e7</td></tr></tbody></table></div>"
      ],
      "text/plain": [
       "shape: (6, 2)\n",
       "┌───────────────┬───────────────────────┐\n",
       "│ Company Class ┆ Total Withdrawn Value │\n",
       "│ ---           ┆ ---                   │\n",
       "│ str           ┆ f64                   │\n",
       "╞═══════════════╪═══════════════════════╡\n",
       "│ Acq.Corp      ┆ 4.0210e9              │\n",
       "│ Inc           ┆ 2.2572e9              │\n",
       "│ Other         ┆ 7.67919999e8          │\n",
       "│ Ltd           ┆ 3.2173e8              │\n",
       "│ Holdings      ┆ 3.0300e8              │\n",
       "│ Group         ┆ 3.37875e7             │\n",
       "└───────────────┴───────────────────────┘"
      ]
     },
     "execution_count": 11,
     "metadata": {},
     "output_type": "execute_result"
    }
   ],
   "source": [
    "withdrawn_ipo_df.group_by(\"Company Class\").agg(\n",
    "    pl.col(\"Withdrawn Value\").sum().alias(\"Total Withdrawn Value\")\n",
    ").sort(\"Total Withdrawn Value\", descending=True)\n"
   ]
  },
  {
   "cell_type": "markdown",
   "id": "9aefde3c",
   "metadata": {},
   "source": [
    "## Question 2"
   ]
  },
  {
   "cell_type": "code",
   "execution_count": null,
   "id": "4050512c",
   "metadata": {},
   "outputs": [],
   "source": [
    "def get_ipos_by_year(year: int) -> pd.DataFrame:\n",
    "    \"\"\"\n",
    "    Fetch IPO data for the given year from stockanalysis.com.\n",
    "    \"\"\"\n",
    "    url = f\"https://stockanalysis.com/ipos/{year}/\"\n",
    "    headers = {\n",
    "        \"User-Agent\": (\n",
    "            \"Mozilla/5.0 (Windows NT 10.0; Win64; x64) \"\n",
    "            \"AppleWebKit/537.36 (KHTML, like Gecko) \"\n",
    "            \"Chrome/58.0.3029.110 Safari/537.3\"\n",
    "        )\n",
    "    }\n",
    "\n",
    "    try:\n",
    "        response = requests.get(url, headers=headers, timeout=10)\n",
    "        response.raise_for_status()\n",
    "\n",
    "        # Wrap HTML text in StringIO to avoid deprecation warning\n",
    "        # \"Passing literal html to 'read_html' is deprecated and will be removed in a future version. To read from a literal string, wrap it in a 'StringIO' object.\"\n",
    "        html_io = StringIO(response.text)\n",
    "        tables = pd.read_html(html_io)\n",
    "\n",
    "        if not tables:\n",
    "            raise ValueError(f\"No tables found for year {year}.\")\n",
    "\n",
    "        return tables[0]\n",
    "\n",
    "    except requests.exceptions.RequestException as e:\n",
    "        print(f\"Request failed: {e}\")\n",
    "    except ValueError as ve:\n",
    "        print(f\"Data error: {ve}\")\n",
    "    except Exception as ex:\n",
    "        print(f\"Unexpected error: {ex}\")\n",
    "\n",
    "    return pd.DataFrame()"
   ]
  },
  {
   "cell_type": "code",
   "execution_count": 13,
   "id": "1f8c0e96",
   "metadata": {},
   "outputs": [],
   "source": [
    "ipo_df = pl.from_pandas(get_ipos_by_year(2024))"
   ]
  },
  {
   "cell_type": "code",
   "execution_count": null,
   "id": "ad7ef7b4",
   "metadata": {},
   "outputs": [],
   "source": [
    "ipo_df = ipo_df.with_columns(pl.col(\"IPO Date\").str.to_date(format=\"%b %d, %Y\")).filter(\n",
    "    pl.col(\"IPO Date\") < date(2024, 6, 1), ~pl.col(\"IPO Price\").str.contains(\"-\")\n",
    ")"
   ]
  },
  {
   "cell_type": "code",
   "execution_count": 16,
   "id": "19ebf1f8",
   "metadata": {},
   "outputs": [
    {
     "data": {
      "text/html": [
       "<div><style>\n",
       ".dataframe > thead > tr,\n",
       ".dataframe > tbody > tr {\n",
       "  text-align: right;\n",
       "  white-space: pre-wrap;\n",
       "}\n",
       "</style>\n",
       "<small>shape: (5, 6)</small><table border=\"1\" class=\"dataframe\"><thead><tr><th>IPO Date</th><th>Symbol</th><th>Company Name</th><th>IPO Price</th><th>Current</th><th>Return</th></tr><tr><td>date</td><td>str</td><td>str</td><td>str</td><td>str</td><td>str</td></tr></thead><tbody><tr><td>2024-05-23</td><td>&quot;BOW&quot;</td><td>&quot;Bowhead Specialty Holdings Inc…</td><td>&quot;$17.00&quot;</td><td>&quot;$36.49&quot;</td><td>&quot;114.65%&quot;</td></tr><tr><td>2024-05-17</td><td>&quot;HDL&quot;</td><td>&quot;Super Hi International Holding…</td><td>&quot;$19.56&quot;</td><td>&quot;$18.70&quot;</td><td>&quot;-4.40%&quot;</td></tr><tr><td>2024-05-17</td><td>&quot;RFAI&quot;</td><td>&quot;RF Acquisition Corp II&quot;</td><td>&quot;$10.00&quot;</td><td>&quot;$10.60&quot;</td><td>&quot;6.00%&quot;</td></tr><tr><td>2024-05-15</td><td>&quot;JDZG&quot;</td><td>&quot;JIADE Limited&quot;</td><td>&quot;$4.00&quot;</td><td>&quot;$0.26&quot;</td><td>&quot;-93.40%&quot;</td></tr><tr><td>2024-05-15</td><td>&quot;RAY&quot;</td><td>&quot;Raytech Holding Limited&quot;</td><td>&quot;$4.00&quot;</td><td>&quot;$1.23&quot;</td><td>&quot;-69.25%&quot;</td></tr></tbody></table></div>"
      ],
      "text/plain": [
       "shape: (5, 6)\n",
       "┌────────────┬────────┬─────────────────────────────────┬───────────┬─────────┬─────────┐\n",
       "│ IPO Date   ┆ Symbol ┆ Company Name                    ┆ IPO Price ┆ Current ┆ Return  │\n",
       "│ ---        ┆ ---    ┆ ---                             ┆ ---       ┆ ---     ┆ ---     │\n",
       "│ date       ┆ str    ┆ str                             ┆ str       ┆ str     ┆ str     │\n",
       "╞════════════╪════════╪═════════════════════════════════╪═══════════╪═════════╪═════════╡\n",
       "│ 2024-05-23 ┆ BOW    ┆ Bowhead Specialty Holdings Inc… ┆ $17.00    ┆ $36.49  ┆ 114.65% │\n",
       "│ 2024-05-17 ┆ HDL    ┆ Super Hi International Holding… ┆ $19.56    ┆ $18.70  ┆ -4.40%  │\n",
       "│ 2024-05-17 ┆ RFAI   ┆ RF Acquisition Corp II          ┆ $10.00    ┆ $10.60  ┆ 6.00%   │\n",
       "│ 2024-05-15 ┆ JDZG   ┆ JIADE Limited                   ┆ $4.00     ┆ $0.26   ┆ -93.40% │\n",
       "│ 2024-05-15 ┆ RAY    ┆ Raytech Holding Limited         ┆ $4.00     ┆ $1.23   ┆ -69.25% │\n",
       "└────────────┴────────┴─────────────────────────────────┴───────────┴─────────┴─────────┘"
      ]
     },
     "execution_count": 16,
     "metadata": {},
     "output_type": "execute_result"
    }
   ],
   "source": [
    "ipo_df.head()"
   ]
  },
  {
   "cell_type": "code",
   "execution_count": 17,
   "id": "9acace54",
   "metadata": {},
   "outputs": [],
   "source": [
    "tickers = ipo_df[\"Symbol\"].to_list()"
   ]
  },
  {
   "cell_type": "code",
   "execution_count": null,
   "id": "9827e3ad",
   "metadata": {},
   "outputs": [],
   "source": [
    "stocks_df_list = []\n",
    "for ticker in tickers:\n",
    "    ticker_obj = yf.Ticker(ticker)\n",
    "    historyPrices = ticker_obj.history(period=\"max\", interval=\"1d\")\n",
    "    df = pl.from_pandas(historyPrices, include_index=True)\n",
    "    df = df.with_columns(pl.col(\"Date\").cast(pl.Date))\n",
    "    df = df.with_columns(\n",
    "        pl.col(\"Date\").dt.year().alias(\"Year\"),\n",
    "        pl.col(\"Date\").dt.month().alias(\"Month\"),\n",
    "        pl.col(\"Date\").dt.day().alias(\"Day\"),\n",
    "        pl.col(\"Date\").dt.weekday().alias(\"Weekday\"),\n",
    "    )\n",
    "    expressions = [\n",
    "        (pl.col(\"Close\") / pl.col(\"Close\").shift(i)).alias(f\"growth_{i}d\")\n",
    "        for i in [1, 3, 7, 30, 90, 252, 365]\n",
    "    ]\n",
    "    df = df.with_columns(expressions)\n",
    "    df = df.with_columns(\n",
    "        (pl.col(\"Close\").shift(-5) / pl.col(\"Close\")).alias(\"growth_future_30d\")\n",
    "    )\n",
    "    expressions = [\n",
    "        (pl.col(\"Close\").shift(-21 * i) / pl.col(\"Close\")).alias(f\"future_growth_{i}m\")\n",
    "        for i in range(1, 13, 1)\n",
    "    ]\n",
    "    df = df.with_columns(expressions)\n",
    "    df = df.with_columns(\n",
    "        pl.col(\"Close\").rolling_mean(window_size=10).alias(\"SMA10\"),\n",
    "        pl.col(\"Close\").rolling_mean(window_size=20).alias(\"SMA20\"),\n",
    "    )\n",
    "    df = df.with_columns(\n",
    "        (pl.col(\"SMA10\") > pl.col(\"SMA20\"))\n",
    "        .cast(pl.Int8)\n",
    "        .alias(\"growing_moving_average\")\n",
    "    )\n",
    "    df = df.with_columns(\n",
    "        ((pl.col(\"High\") - pl.col(\"Low\")) / pl.col(\"Close\")).alias(\n",
    "            \"high_minus_low_relative\"\n",
    "        )\n",
    "    )\n",
    "    df = df.with_columns(\n",
    "        (pl.col(\"Close\").rolling_std(window_size=30) * np.sqrt(252)).alias(\"volatility\")\n",
    "    )\n",
    "    df = df.with_columns(\n",
    "        (pl.col(\"growth_future_30d\") > 1)\n",
    "        .cast(pl.Int8)\n",
    "        .alias(\"is_positive_growth_30d_future\")\n",
    "    )\n",
    "    df = df.with_columns(\n",
    "        ((pl.col(\"growth_252d\") - 0.045) / pl.col(\"volatility\")).alias(\"Sharpe\")\n",
    "    )\n",
    "    df = df.with_columns(ticker=pl.lit(ticker))\n",
    "    df = df.with_columns(min_date=pl.col(\"Date\").min())\n",
    "    stocks_df_list.append(df)\n",
    "\n",
    "    time.sleep(1)"
   ]
  },
  {
   "cell_type": "code",
   "execution_count": 19,
   "id": "07df97ff",
   "metadata": {},
   "outputs": [],
   "source": [
    "stocks_df = pl.concat(stocks_df_list)"
   ]
  },
  {
   "cell_type": "code",
   "execution_count": null,
   "id": "65d8ce43",
   "metadata": {},
   "outputs": [],
   "source": [
    "stocks_df_filtered = stocks_df.filter(pl.col(\"Date\") == date(2025, 6, 6))"
   ]
  },
  {
   "cell_type": "code",
   "execution_count": null,
   "id": "b47949bf",
   "metadata": {},
   "outputs": [
    {
     "data": {
      "text/html": [
       "<div><style>\n",
       ".dataframe > thead > tr,\n",
       ".dataframe > tbody > tr {\n",
       "  text-align: right;\n",
       "  white-space: pre-wrap;\n",
       "}\n",
       "</style>\n",
       "<small>shape: (1, 1)</small><table border=\"1\" class=\"dataframe\"><thead><tr><th>Sharpe</th></tr><tr><td>f64</td></tr></thead><tbody><tr><td>0.083768</td></tr></tbody></table></div>"
      ],
      "text/plain": [
       "shape: (1, 1)\n",
       "┌──────────┐\n",
       "│ Sharpe   │\n",
       "│ ---      │\n",
       "│ f64      │\n",
       "╞══════════╡\n",
       "│ 0.083768 │\n",
       "└──────────┘"
      ]
     },
     "execution_count": 21,
     "metadata": {},
     "output_type": "execute_result"
    }
   ],
   "source": [
    "stocks_df_filtered.select(pl.col([\"Sharpe\"])).filter(\n",
    "    pl.col(\"Sharpe\").is_not_null()\n",
    ").select(pl.col(\"Sharpe\").median())"
   ]
  },
  {
   "cell_type": "code",
   "execution_count": null,
   "id": "fbeb4f12",
   "metadata": {},
   "outputs": [
    {
     "data": {
      "text/html": [
       "<div><style>\n",
       ".dataframe > thead > tr,\n",
       ".dataframe > tbody > tr {\n",
       "  text-align: right;\n",
       "  white-space: pre-wrap;\n",
       "}\n",
       "</style>\n",
       "<small>shape: (10, 2)</small><table border=\"1\" class=\"dataframe\"><thead><tr><th>ticker</th><th>Sharpe</th></tr><tr><td>str</td><td>f64</td></tr></thead><tbody><tr><td>&quot;BKHA&quot;</td><td>2.835668</td></tr><tr><td>&quot;JVSA&quot;</td><td>2.041531</td></tr><tr><td>&quot;LEGT&quot;</td><td>1.940267</td></tr><tr><td>&quot;IBAC&quot;</td><td>1.637119</td></tr><tr><td>&quot;HLXB&quot;</td><td>1.123493</td></tr><tr><td>&quot;MNDR&quot;</td><td>0.974234</td></tr><tr><td>&quot;DYCQ&quot;</td><td>0.969321</td></tr><tr><td>&quot;INTJ&quot;</td><td>0.744512</td></tr><tr><td>&quot;JL&quot;</td><td>0.566222</td></tr><tr><td>&quot;TRSG&quot;</td><td>0.51808</td></tr></tbody></table></div>"
      ],
      "text/plain": [
       "shape: (10, 2)\n",
       "┌────────┬──────────┐\n",
       "│ ticker ┆ Sharpe   │\n",
       "│ ---    ┆ ---      │\n",
       "│ str    ┆ f64      │\n",
       "╞════════╪══════════╡\n",
       "│ BKHA   ┆ 2.835668 │\n",
       "│ JVSA   ┆ 2.041531 │\n",
       "│ LEGT   ┆ 1.940267 │\n",
       "│ IBAC   ┆ 1.637119 │\n",
       "│ HLXB   ┆ 1.123493 │\n",
       "│ MNDR   ┆ 0.974234 │\n",
       "│ DYCQ   ┆ 0.969321 │\n",
       "│ INTJ   ┆ 0.744512 │\n",
       "│ JL     ┆ 0.566222 │\n",
       "│ TRSG   ┆ 0.51808  │\n",
       "└────────┴──────────┘"
      ]
     },
     "execution_count": 22,
     "metadata": {},
     "output_type": "execute_result"
    }
   ],
   "source": [
    "stocks_df_filtered.select(pl.col([\"ticker\", \"Sharpe\"])).drop_nulls().sort(\n",
    "    by=\"Sharpe\", descending=True\n",
    ").head(10)"
   ]
  },
  {
   "cell_type": "code",
   "execution_count": null,
   "id": "a18ae8cb",
   "metadata": {},
   "outputs": [
    {
     "data": {
      "text/html": [
       "<div><style>\n",
       ".dataframe > thead > tr,\n",
       ".dataframe > tbody > tr {\n",
       "  text-align: right;\n",
       "  white-space: pre-wrap;\n",
       "}\n",
       "</style>\n",
       "<small>shape: (10, 2)</small><table border=\"1\" class=\"dataframe\"><thead><tr><th>ticker</th><th>growth_252d</th></tr><tr><td>str</td><td>f64</td></tr></thead><tbody><tr><td>&quot;JL&quot;</td><td>8.097413</td></tr><tr><td>&quot;ROMA&quot;</td><td>6.156406</td></tr><tr><td>&quot;UMAC&quot;</td><td>4.966533</td></tr><tr><td>&quot;NNE&quot;</td><td>4.655224</td></tr><tr><td>&quot;RBRK&quot;</td><td>3.184065</td></tr><tr><td>&quot;AHR&quot;</td><td>2.483097</td></tr><tr><td>&quot;AS&quot;</td><td>2.478203</td></tr><tr><td>&quot;MRX&quot;</td><td>2.300384</td></tr><tr><td>&quot;RDDT&quot;</td><td>2.225505</td></tr><tr><td>&quot;MTEN&quot;</td><td>2.210432</td></tr></tbody></table></div>"
      ],
      "text/plain": [
       "shape: (10, 2)\n",
       "┌────────┬─────────────┐\n",
       "│ ticker ┆ growth_252d │\n",
       "│ ---    ┆ ---         │\n",
       "│ str    ┆ f64         │\n",
       "╞════════╪═════════════╡\n",
       "│ JL     ┆ 8.097413    │\n",
       "│ ROMA   ┆ 6.156406    │\n",
       "│ UMAC   ┆ 4.966533    │\n",
       "│ NNE    ┆ 4.655224    │\n",
       "│ RBRK   ┆ 3.184065    │\n",
       "│ AHR    ┆ 2.483097    │\n",
       "│ AS     ┆ 2.478203    │\n",
       "│ MRX    ┆ 2.300384    │\n",
       "│ RDDT   ┆ 2.225505    │\n",
       "│ MTEN   ┆ 2.210432    │\n",
       "└────────┴─────────────┘"
      ]
     },
     "execution_count": 23,
     "metadata": {},
     "output_type": "execute_result"
    }
   ],
   "source": [
    "stocks_df_filtered.select(pl.col([\"ticker\", \"growth_252d\"])).drop_nulls().sort(\n",
    "    by=\"growth_252d\", descending=True\n",
    ").head(10)"
   ]
  },
  {
   "cell_type": "markdown",
   "id": "5c569149",
   "metadata": {},
   "source": [
    "## Question 3"
   ]
  },
  {
   "cell_type": "code",
   "execution_count": null,
   "id": "45291c82",
   "metadata": {},
   "outputs": [
    {
     "data": {
      "text/html": [
       "<div><style>\n",
       ".dataframe > thead > tr,\n",
       ".dataframe > tbody > tr {\n",
       "  text-align: right;\n",
       "  white-space: pre-wrap;\n",
       "}\n",
       "</style>\n",
       "<small>shape: (12, 2)</small><table border=\"1\" class=\"dataframe\"><thead><tr><th>horizon</th><th>growth</th></tr><tr><td>str</td><td>f64</td></tr></thead><tbody><tr><td>&quot;future_growth_2m&quot;</td><td>0.940544</td></tr><tr><td>&quot;future_growth_1m&quot;</td><td>0.927259</td></tr><tr><td>&quot;future_growth_10m&quot;</td><td>0.917945</td></tr><tr><td>&quot;future_growth_12m&quot;</td><td>0.900861</td></tr><tr><td>&quot;future_growth_11m&quot;</td><td>0.882534</td></tr><tr><td>&quot;future_growth_9m&quot;</td><td>0.881779</td></tr><tr><td>&quot;future_growth_6m&quot;</td><td>0.864185</td></tr><tr><td>&quot;future_growth_7m&quot;</td><td>0.847149</td></tr><tr><td>&quot;future_growth_3m&quot;</td><td>0.833824</td></tr><tr><td>&quot;future_growth_8m&quot;</td><td>0.832983</td></tr><tr><td>&quot;future_growth_4m&quot;</td><td>0.825086</td></tr><tr><td>&quot;future_growth_5m&quot;</td><td>0.803768</td></tr></tbody></table></div>"
      ],
      "text/plain": [
       "shape: (12, 2)\n",
       "┌───────────────────┬──────────┐\n",
       "│ horizon           ┆ growth   │\n",
       "│ ---               ┆ ---      │\n",
       "│ str               ┆ f64      │\n",
       "╞═══════════════════╪══════════╡\n",
       "│ future_growth_2m  ┆ 0.940544 │\n",
       "│ future_growth_1m  ┆ 0.927259 │\n",
       "│ future_growth_10m ┆ 0.917945 │\n",
       "│ future_growth_12m ┆ 0.900861 │\n",
       "│ future_growth_11m ┆ 0.882534 │\n",
       "│ future_growth_9m  ┆ 0.881779 │\n",
       "│ future_growth_6m  ┆ 0.864185 │\n",
       "│ future_growth_7m  ┆ 0.847149 │\n",
       "│ future_growth_3m  ┆ 0.833824 │\n",
       "│ future_growth_8m  ┆ 0.832983 │\n",
       "│ future_growth_4m  ┆ 0.825086 │\n",
       "│ future_growth_5m  ┆ 0.803768 │\n",
       "└───────────────────┴──────────┘"
      ]
     },
     "execution_count": 49,
     "metadata": {},
     "output_type": "execute_result"
    }
   ],
   "source": [
    "stocks_df.filter(pl.col(\"Date\") == pl.col(\"min_date\")).select(\n",
    "    cs.starts_with(\"future_growth_\")\n",
    ").describe()[2].drop(\"statistic\").unpivot(\n",
    "    variable_name=\"horizon\", value_name=\"growth\"\n",
    ").sort(\"growth\", descending=True)"
   ]
  },
  {
   "cell_type": "markdown",
   "id": "4f54796f",
   "metadata": {},
   "source": [
    "## Question 4"
   ]
  },
  {
   "cell_type": "code",
   "execution_count": null,
   "id": "71b3f3b4",
   "metadata": {},
   "outputs": [
    {
     "name": "stderr",
     "output_type": "stream",
     "text": [
      "Downloading...\n",
      "From (original): https://drive.google.com/uc?id=1grCTCzMZKY5sJRtdbLVCXg8JXA8VPyg-\n",
      "From (redirected): https://drive.google.com/uc?id=1grCTCzMZKY5sJRtdbLVCXg8JXA8VPyg-&confirm=t&uuid=188101ac-c605-4758-86e1-d5dc4731b14d\n",
      "To: c:\\Users\\kerim\\github_repo\\stock-markets-analytics-zoomcamp\\homeworks\\2025\\02-dataframe-analysis\\data.parquet\n",
      "100%|██████████| 130M/130M [00:09<00:00, 14.1MB/s] \n"
     ]
    }
   ],
   "source": [
    "file_id = \"1grCTCzMZKY5sJRtdbLVCXg8JXA8VPyg-\"\n",
    "gdown.download(f\"https://drive.google.com/uc?id={file_id}\", \"data.parquet\", quiet=False)\n",
    "df_polars = pl.read_parquet(\"data.parquet\", use_pyarrow=True).with_columns(\n",
    "    pl.col([\"Month\", \"Date\", \"Quarter\"]).cast(pl.Date)\n",
    ")\n"
   ]
  },
  {
   "cell_type": "code",
   "execution_count": null,
   "id": "f7fd65e1",
   "metadata": {},
   "outputs": [],
   "source": [
    "rsi_threshold = 25\n",
    "selected_df = df_polars.filter(\n",
    "    (pl.col(\"rsi\") < rsi_threshold)\n",
    "    & (pl.col(\"Date\") >= date(2000, 1, 1))\n",
    "    & (pl.col(\"Date\") <= date(2025, 6, 1))\n",
    ")\n"
   ]
  },
  {
   "cell_type": "code",
   "execution_count": null,
   "id": "9a7b9d73",
   "metadata": {},
   "outputs": [
    {
     "name": "stdout",
     "output_type": "stream",
     "text": [
      "Net income is $24295.52\n"
     ]
    }
   ],
   "source": [
    "result = selected_df.select(\n",
    "    (1000 * (pl.col(\"growth_future_30d\") - 1)).sum().alias(\"net_income\")\n",
    ")\n",
    "print(f\"Net income is ${result.item():.2f}\")"
   ]
  }
 ],
 "metadata": {
  "kernelspec": {
   "display_name": ".venv",
   "language": "python",
   "name": "python3"
  },
  "language_info": {
   "codemirror_mode": {
    "name": "ipython",
    "version": 3
   },
   "file_extension": ".py",
   "mimetype": "text/x-python",
   "name": "python",
   "nbconvert_exporter": "python",
   "pygments_lexer": "ipython3",
   "version": "3.11.10"
  }
 },
 "nbformat": 4,
 "nbformat_minor": 5
}
