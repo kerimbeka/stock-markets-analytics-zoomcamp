{
 "cells": [
  {
   "cell_type": "code",
   "execution_count": 1,
   "id": "69c59f23",
   "metadata": {},
   "outputs": [],
   "source": [
    "from datetime import datetime\n",
    "from pathlib import Path\n",
    "\n",
    "import pandas as pd\n",
    "import polars as pl\n",
    "import pytz\n",
    "import yfinance as yf\n",
    "from dateutil import parser\n"
   ]
  },
  {
   "cell_type": "markdown",
   "id": "86bdee9a",
   "metadata": {},
   "source": [
    "Question 1"
   ]
  },
  {
   "cell_type": "code",
   "execution_count": 2,
   "id": "7e48f1ae",
   "metadata": {},
   "outputs": [],
   "source": [
    "URL = \"https://en.wikipedia.org/wiki/List_of_S%26P_500_companies\""
   ]
  },
  {
   "cell_type": "code",
   "execution_count": 3,
   "id": "ded0f124",
   "metadata": {},
   "outputs": [],
   "source": [
    "df_pandas = pd.read_html(URL)"
   ]
  },
  {
   "cell_type": "code",
   "execution_count": 4,
   "id": "b99ed401",
   "metadata": {},
   "outputs": [],
   "source": [
    "df = pl.from_pandas(df_pandas[0])"
   ]
  },
  {
   "cell_type": "code",
   "execution_count": 5,
   "id": "e1a88c4d",
   "metadata": {},
   "outputs": [],
   "source": [
    "df = df.select(\n",
    "    pl.col(\"Symbol\").alias(\"ticker\"),\n",
    "    pl.col(\"Security\").alias(\"name\"),\n",
    "    pl.col(\"Date added\").cast(pl.Date).alias(\"date_added\"),\n",
    ").with_columns(pl.col(\"date_added\").dt.year().alias(\"year_added\"))"
   ]
  },
  {
   "cell_type": "code",
   "execution_count": 6,
   "id": "00e4ce77",
   "metadata": {},
   "outputs": [
    {
     "data": {
      "text/plain": [
       "2017"
      ]
     },
     "execution_count": 6,
     "metadata": {},
     "output_type": "execute_result"
    }
   ],
   "source": [
    "df.group_by(\"year_added\").agg(pl.col(\"ticker\").count().alias(\"ticker_count\")).sort(\n",
    "    [\"ticker_count\", \"year_added\"], descending=True\n",
    ")[1][\"year_added\"].item()"
   ]
  },
  {
   "cell_type": "code",
   "execution_count": 7,
   "id": "237fcd7e",
   "metadata": {},
   "outputs": [
    {
     "data": {
      "text/plain": [
       "226"
      ]
     },
     "execution_count": 7,
     "metadata": {},
     "output_type": "execute_result"
    }
   ],
   "source": [
    "current_year = datetime.now().year\n",
    "df.filter(pl.col(\"year_added\") <= current_year - 20).select(\n",
    "    pl.col(\"ticker\").count()\n",
    ").item()"
   ]
  },
  {
   "cell_type": "markdown",
   "id": "3fb6afe7",
   "metadata": {},
   "source": [
    "Question 2"
   ]
  },
  {
   "cell_type": "code",
   "execution_count": 8,
   "id": "386e1850",
   "metadata": {},
   "outputs": [],
   "source": [
    "world_indices = {\n",
    "    \"United States\": {\"index\": \"S&P 500\", \"ticker\": \"^GSPC\"},\n",
    "    \"China\": {\"index\": \"Shanghai Composite\", \"ticker\": \"000001.SS\"},\n",
    "    \"Hong Kong\": {\"index\": \"HANG SENG INDEX\", \"ticker\": \"^HSI\"},\n",
    "    \"Australia\": {\"index\": \"S&P/ASX 200\", \"ticker\": \"^AXJO\"},\n",
    "    \"India\": {\"index\": \"Nifty 50\", \"ticker\": \"^NSEI\"},\n",
    "    \"Canada\": {\"index\": \"S&P/TSX Composite\", \"ticker\": \"^GSPTSE\"},\n",
    "    \"Germany\": {\"index\": \"DAX\", \"ticker\": \"^GDAXI\"},\n",
    "    \"United Kingdom\": {\"index\": \"FTSE 100\", \"ticker\": \"^FTSE\"},\n",
    "    \"Japan\": {\"index\": \"Nikkei 225\", \"ticker\": \"^N225\"},\n",
    "    \"Mexico\": {\"index\": \"IPC Mexico\", \"ticker\": \"^MXX\"},\n",
    "    \"Brazil\": {\"index\": \"Ibovespa\", \"ticker\": \"^BVSP\"},\n",
    "}"
   ]
  },
  {
   "cell_type": "code",
   "execution_count": 9,
   "id": "58305413",
   "metadata": {},
   "outputs": [
    {
     "name": "stdout",
     "output_type": "stream",
     "text": [
      "YF.download() has changed argument auto_adjust default to True\n"
     ]
    }
   ],
   "source": [
    "start_date = \"2025-01-01\"\n",
    "end_date = \"2025-05-01\"\n",
    "\n",
    "\n",
    "data = {}\n",
    "for country, ticker in world_indices.items():\n",
    "    df = yf.download(ticker[\"ticker\"], start=start_date, end=end_date, progress=False)\n",
    "    data[country] = pl.from_pandas(\n",
    "        df.reset_index(), schema_overrides={\"('Date', '')\": pl.Date}\n",
    "    )\n",
    "    data[country].columns = [\"date\", \"close\", \"high\", \"low\", \"open\", \"volume\"]\n"
   ]
  },
  {
   "cell_type": "code",
   "execution_count": 10,
   "id": "d32bf397",
   "metadata": {},
   "outputs": [],
   "source": [
    "dfs_with_keys = [\n",
    "    df.with_columns(pl.lit(key).alias(\"country\")) for key, df in data.items()\n",
    "]\n",
    "combined_df = pl.concat(dfs_with_keys)"
   ]
  },
  {
   "cell_type": "code",
   "execution_count": 11,
   "id": "44afe718",
   "metadata": {},
   "outputs": [],
   "source": [
    "df_ytd = combined_df.group_by(\"country\", maintain_order=True).agg(\n",
    "    ytd=100\n",
    "    * (pl.col(\"close\").last() - pl.col(\"close\").first())\n",
    "    / pl.col(\"close\").first()\n",
    ")"
   ]
  },
  {
   "cell_type": "code",
   "execution_count": 12,
   "id": "0486999e",
   "metadata": {},
   "outputs": [
    {
     "data": {
      "text/plain": [
       "9"
      ]
     },
     "execution_count": 12,
     "metadata": {},
     "output_type": "execute_result"
    }
   ],
   "source": [
    "df_ytd.filter(\n",
    "    pl.col(\"ytd\") > pl.col(\"ytd\").filter(pl.col(\"country\") == \"United States\").first()\n",
    ").height"
   ]
  },
  {
   "cell_type": "markdown",
   "id": "cf88bfc4",
   "metadata": {},
   "source": [
    "Question 3"
   ]
  },
  {
   "cell_type": "code",
   "execution_count": 13,
   "id": "9febe77c",
   "metadata": {},
   "outputs": [],
   "source": [
    "sp500 = yf.download(\"^GSPC\", start=\"1950-01-01\", end=\"2025-05-01\", progress=False)\n",
    "df = pl.DataFrame(sp500.reset_index(), schema_overrides={\"('Date', '')\": pl.Date})\n",
    "df.columns = [\"date\", \"close\", \"high\", \"low\", \"open\", \"volume\"]"
   ]
  },
  {
   "cell_type": "code",
   "execution_count": 14,
   "id": "e24b32dd",
   "metadata": {},
   "outputs": [],
   "source": [
    "df = (\n",
    "    df.with_columns(pl.col(\"close\").cum_max().alias(\"all_time_high\"))\n",
    "    .with_columns(\n",
    "        pl.when(pl.col(\"close\") == pl.col(\"all_time_high\"))\n",
    "        .then(pl.col(\"date\"))\n",
    "        .alias(\"high_date\")\n",
    "    ).with_columns(pl.col(\"high_date\").fill_null(strategy=\"forward\"))\n",
    "    .with_columns(\n",
    "        (pl.col(\"all_time_high\") - pl.col(\"close\")).alias(\"drawdown\"),\n",
    "    )\n",
    "    .with_columns(\n",
    "        ((pl.col(\"drawdown\") / pl.col(\"all_time_high\")) * 100).alias(\"drawdown_pct\")\n",
    "    )\n",
    ")\n"
   ]
  },
  {
   "cell_type": "code",
   "execution_count": 15,
   "id": "78cdf330",
   "metadata": {},
   "outputs": [],
   "source": [
    "corrections_duration = (\n",
    "    df.filter(pl.col(\"drawdown_pct\") >= 5)\n",
    "    .group_by(\"high_date\", maintain_order=True)\n",
    "    .agg(\n",
    "        pl.col(\"date\")\n",
    "        .filter(pl.col(\"drawdown_pct\") == pl.col(\"drawdown_pct\").max())\n",
    "        .first()\n",
    "        .alias(\"end_date_correction\")\n",
    "    )\n",
    "    .with_columns(\n",
    "        (pl.col(\"end_date_correction\") - pl.col(\"high_date\"))\n",
    "        .dt.total_days()\n",
    "        .alias(\"correction_duration_days\")\n",
    "    )\n",
    ")"
   ]
  },
  {
   "cell_type": "code",
   "execution_count": 16,
   "id": "59d2ffea",
   "metadata": {},
   "outputs": [
    {
     "data": {
      "text/html": [
       "<div><style>\n",
       ".dataframe > thead > tr,\n",
       ".dataframe > tbody > tr {\n",
       "  text-align: right;\n",
       "  white-space: pre-wrap;\n",
       "}\n",
       "</style>\n",
       "<small>shape: (1, 3)</small><table border=\"1\" class=\"dataframe\"><thead><tr><th>25th_percentile</th><th>50th_percentile</th><th>75th_percentile</th></tr><tr><td>f64</td><td>f64</td><td>f64</td></tr></thead><tbody><tr><td>22.0</td><td>40.5</td><td>87.0</td></tr></tbody></table></div>"
      ],
      "text/plain": [
       "shape: (1, 3)\n",
       "┌─────────────────┬─────────────────┬─────────────────┐\n",
       "│ 25th_percentile ┆ 50th_percentile ┆ 75th_percentile │\n",
       "│ ---             ┆ ---             ┆ ---             │\n",
       "│ f64             ┆ f64             ┆ f64             │\n",
       "╞═════════════════╪═════════════════╪═════════════════╡\n",
       "│ 22.0            ┆ 40.5            ┆ 87.0            │\n",
       "└─────────────────┴─────────────────┴─────────────────┘"
      ]
     },
     "execution_count": 16,
     "metadata": {},
     "output_type": "execute_result"
    }
   ],
   "source": [
    "percentiles = corrections_duration.select(\n",
    "    [\n",
    "        pl.col(\"correction_duration_days\").quantile(0.25).alias(\"25th_percentile\"),\n",
    "        pl.col(\"correction_duration_days\").median().alias(\"50th_percentile\"),\n",
    "        pl.col(\"correction_duration_days\").quantile(0.75).alias(\"75th_percentile\"),\n",
    "    ]\n",
    ")\n",
    "percentiles"
   ]
  },
  {
   "cell_type": "markdown",
   "id": "f4a1f23a",
   "metadata": {},
   "source": [
    "Question 4"
   ]
  },
  {
   "cell_type": "code",
   "execution_count": 17,
   "id": "61c59186",
   "metadata": {},
   "outputs": [],
   "source": [
    "df_earning = pl.read_csv(\n",
    "    Path(\"./../../../cohorts/2025/ha1_Amazon.csv\"),\n",
    "    separator=\";\",\n",
    "    null_values=\"-\",\n",
    "    try_parse_dates=True,\n",
    ").filter(~pl.all_horizontal(pl.all().is_null()))"
   ]
  },
  {
   "cell_type": "code",
   "execution_count": 18,
   "id": "85271f11",
   "metadata": {},
   "outputs": [],
   "source": [
    "df_earning = df_earning.with_columns(\n",
    "    pl.when(pl.col(\"EPS Estimate\").cast(pl.Utf8).str.contains(r\"\\?\\?\\?\"))\n",
    "    .then(None)\n",
    "    .otherwise(pl.col(\"EPS Estimate\"))\n",
    "    .alias(\"EPS Estimate\"),\n",
    "    pl.when(pl.col(\"Reported EPS\").cast(pl.Utf8).str.contains(r\"\\?\\?\\?\"))\n",
    "    .then(None)\n",
    "    .otherwise(pl.col(\"Reported EPS\"))\n",
    "    .alias(\"Reported EPS\"),\n",
    ").with_columns(\n",
    "    pl.col(\"EPS Estimate\").cast(pl.Float64), pl.col(\"Reported EPS\").cast(pl.Float64)\n",
    ")"
   ]
  },
  {
   "cell_type": "code",
   "execution_count": 19,
   "id": "1889a1f3",
   "metadata": {},
   "outputs": [],
   "source": [
    "tzinfos = {\n",
    "    \"EST\": pytz.timezone(\"US/Eastern\"),\n",
    "    \"EDT\": pytz.timezone(\"US/Eastern\"),\n",
    "}"
   ]
  },
  {
   "cell_type": "code",
   "execution_count": 20,
   "id": "db8337ee",
   "metadata": {},
   "outputs": [],
   "source": [
    "df_earning = df_earning.with_columns(\n",
    "    pl.col(\"Earnings Date\")\n",
    "    .map_elements(\n",
    "        lambda x: parser.parse(x, tzinfos=tzinfos).strftime(\"%B %d, %Y at %I:%M %p %Z\"),\n",
    "        return_dtype=pl.String\n",
    "    )\n",
    "    .str.to_datetime(format=\"%B %d, %Y at %I:%M %p %Z\")\n",
    "    .alias(\"Earnings Date fixed\")\n",
    ").with_columns(\n",
    "    pl.when(pl.col(\"Surprise (%)\") > 0).then(1).otherwise(0).alias(\"surprise_earning\"),\n",
    "    pl.col(\"Earnings Date fixed\").dt.date().alias(\"earning_date_only\"),\n",
    ")"
   ]
  },
  {
   "cell_type": "code",
   "execution_count": 21,
   "id": "1496b4e2",
   "metadata": {},
   "outputs": [],
   "source": [
    "df_amzn = yf.download(\"AMZN\", progress=False)"
   ]
  },
  {
   "cell_type": "code",
   "execution_count": 22,
   "id": "dacdabe6",
   "metadata": {},
   "outputs": [],
   "source": [
    "df_amzn = pl.DataFrame(\n",
    "    df_amzn.reset_index(), schema_overrides={\"('Date', '')\": pl.Date}\n",
    ")\n",
    "df_amzn.columns = [\"date\", \"close\", \"high\", \"low\", \"open\", \"volume\"]"
   ]
  },
  {
   "cell_type": "code",
   "execution_count": 23,
   "id": "8f83719b",
   "metadata": {},
   "outputs": [],
   "source": [
    "df_amzn = df_amzn.with_columns(\n",
    "    (pl.col(\"close\").shift(-2) / pl.col(\"close\") - 1).alias(\"pct_change_2d\")\n",
    ")\n"
   ]
  },
  {
   "cell_type": "code",
   "execution_count": 24,
   "id": "c76121cd",
   "metadata": {},
   "outputs": [],
   "source": [
    "df_merged = df_earning.join(\n",
    "    df_amzn, left_on=\"earning_date_only\", right_on=\"date\", how=\"left\"\n",
    ")"
   ]
  },
  {
   "cell_type": "code",
   "execution_count": 25,
   "id": "e473c596",
   "metadata": {},
   "outputs": [
    {
     "data": {
      "text/html": [
       "<div><style>\n",
       ".dataframe > thead > tr,\n",
       ".dataframe > tbody > tr {\n",
       "  text-align: right;\n",
       "  white-space: pre-wrap;\n",
       "}\n",
       "</style>\n",
       "<small>shape: (1, 1)</small><table border=\"1\" class=\"dataframe\"><thead><tr><th>pct_change_2d</th></tr><tr><td>f64</td></tr></thead><tbody><tr><td>0.002672</td></tr></tbody></table></div>"
      ],
      "text/plain": [
       "shape: (1, 1)\n",
       "┌───────────────┐\n",
       "│ pct_change_2d │\n",
       "│ ---           │\n",
       "│ f64           │\n",
       "╞═══════════════╡\n",
       "│ 0.002672      │\n",
       "└───────────────┘"
      ]
     },
     "execution_count": 25,
     "metadata": {},
     "output_type": "execute_result"
    }
   ],
   "source": [
    "df_merged.filter(pl.col(\"surprise_earning\") == 1).select(\n",
    "    pl.col(\"pct_change_2d\").median()\n",
    ")"
   ]
  },
  {
   "cell_type": "code",
   "execution_count": 26,
   "id": "2d85080b",
   "metadata": {},
   "outputs": [
    {
     "data": {
      "text/html": [
       "<div><style>\n",
       ".dataframe > thead > tr,\n",
       ".dataframe > tbody > tr {\n",
       "  text-align: right;\n",
       "  white-space: pre-wrap;\n",
       "}\n",
       "</style>\n",
       "<small>shape: (1, 1)</small><table border=\"1\" class=\"dataframe\"><thead><tr><th>pct_change_2d</th></tr><tr><td>f64</td></tr></thead><tbody><tr><td>-0.015208</td></tr></tbody></table></div>"
      ],
      "text/plain": [
       "shape: (1, 1)\n",
       "┌───────────────┐\n",
       "│ pct_change_2d │\n",
       "│ ---           │\n",
       "│ f64           │\n",
       "╞═══════════════╡\n",
       "│ -0.015208     │\n",
       "└───────────────┘"
      ]
     },
     "execution_count": 26,
     "metadata": {},
     "output_type": "execute_result"
    }
   ],
   "source": [
    "df_merged.select(pl.col(\"pct_change_2d\").median())"
   ]
  }
 ],
 "metadata": {
  "kernelspec": {
   "display_name": ".venv",
   "language": "python",
   "name": "python3"
  },
  "language_info": {
   "codemirror_mode": {
    "name": "ipython",
    "version": 3
   },
   "file_extension": ".py",
   "mimetype": "text/x-python",
   "name": "python",
   "nbconvert_exporter": "python",
   "pygments_lexer": "ipython3",
   "version": "3.11.10"
  }
 },
 "nbformat": 4,
 "nbformat_minor": 5
}
